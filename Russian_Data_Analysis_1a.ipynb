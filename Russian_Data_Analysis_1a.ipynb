{
 "cells": [
  {
   "cell_type": "code",
   "execution_count": 1,
   "metadata": {},
   "outputs": [],
   "source": [
    "import pandas as pd\n",
    "import string\n",
    "\n",
    "# put in: a list of all the words from a set of tweets\n",
    "# get out: a list of all the unique words in that set of tweets\n",
    "def get_unique(vector):\n",
    "    unique_list = []\n",
    "    for item in vector:\n",
    "        if item not in unique_list:\n",
    "            unique_list.append(item)\n",
    "    return unique_list\n",
    "\n",
    "# put in: vector of words you want to count and a dict of all possible words\n",
    "# get out: the frequency of all possible words in that vetor of words\n",
    "def get_freq(vector, my_dict):\n",
    "    return_dict = {}\n",
    "    for key in my_dict:\n",
    "        return_dict[key] = 0\n",
    "    for item in vector:\n",
    "        return_dict[item] += 1\n",
    "    return return_dict\n",
    "\n",
    "# put in: the full df and the category you want to pull out\n",
    "# get out: a list of all the words from all of the tweets in that category\n",
    "def get_category(series, category):\n",
    "    #print(series)\n",
    "    category_series = series[series['account_category'] == category]\n",
    "    category_content = []\n",
    "    for item in category_series['content']:\n",
    "        category_content.append(str(item))\n",
    "    for i in range(len(category_content)):\n",
    "        category_content[i] = category_content[i].split()\n",
    "    category_list = []\n",
    "    for item1 in category_content:\n",
    "        for item2 in item1:\n",
    "            category_list.append(str(item2))\n",
    "    return category_list\n",
    "\n",
    "# put it: df of all the tweets\n",
    "# get out: list of all the word in those tweets\n",
    "def get_content(series):\n",
    "    content = []\n",
    "    for item in series['content']:\n",
    "        content.append(str(item))\n",
    "    for i in range(len(content)):\n",
    "        content[i] = content[i].split()\n",
    "    content_list = []\n",
    "    for item1 in content:\n",
    "        for item2 in item1:\n",
    "            content_list.append(str(item2))\n",
    "    return content_list\n",
    "\n",
    "# the total number of words in that category\n",
    "# sum values in the dictionary of word frequecies for that category\n",
    "def get_total(d):\n",
    "    return(sum(d.values()))\n",
    "\n",
    "# get the proportion of words that category accounts for to use as multiplier\n",
    "# if that category does not have words, return 0\n",
    "def get_multiplier(total, bot_total):\n",
    "    try:\n",
    "        multiplier = total / bot_total\n",
    "        return multiplier\n",
    "    except:\n",
    "        return 0\n",
    "\n",
    "# calculate the uniqueness score of each word for that category\n",
    "def get_scores(bot_dict, master_dict, bot_multiplier):\n",
    "    score_dict = {}\n",
    "    for item in master_dict:\n",
    "        score = ((bot_dict[item]**2)/master_dict[item])*bot_multiplier\n",
    "        score_dict[item] = [score]\n",
    "    return score_dict\n"
   ]
  },
  {
   "cell_type": "code",
   "execution_count": 2,
   "metadata": {},
   "outputs": [],
   "source": [
    "# get all the tweets where the language is English\n",
    "# datasets were compiled in R to give one very large dataset. \n",
    "# don't print it unless you want to spend forever waiting for it to process.\n",
    "tweets = pd.read_csv(\"IRAhandle_tweets.csv\")\n",
    "english_tweets = tweets[tweets['language'] == 'English']"
   ]
  },
  {
   "cell_type": "code",
   "execution_count": 3,
   "metadata": {},
   "outputs": [],
   "source": [
    "# pull out all possible words in all the tweets\n",
    "All_Tweets = get_content(english_tweets)\n",
    "blank_dict = {}\n",
    "for item in All_Tweets:\n",
    "    blank_dict[item] = 0\n",
    "master_dict = get_freq(All_Tweets, blank_dict)"
   ]
  },
  {
   "cell_type": "code",
   "execution_count": 4,
   "metadata": {},
   "outputs": [],
   "source": [
    "# find the frequency of all words in the Unknown category\n",
    "Unknown = get_category(english_tweets, 'Unknown')\n",
    "Unknown_dict = get_freq(Unknown, blank_dict)"
   ]
  },
  {
   "cell_type": "code",
   "execution_count": 5,
   "metadata": {},
   "outputs": [],
   "source": [
    "# find the frequency of all words in the Fearmonger category\n",
    "Fearmonger = get_category(english_tweets, 'Fearmonger')\n",
    "Fearmonger_dict = get_freq(Fearmonger, blank_dict)"
   ]
  },
  {
   "cell_type": "code",
   "execution_count": 6,
   "metadata": {},
   "outputs": [],
   "source": [
    "# find the frequency of all words in the NonEnglish category\n",
    "NonEnglish = get_category(english_tweets, 'NonEnglish')\n",
    "NonEnglish_dict = get_freq(NonEnglish, blank_dict)"
   ]
  },
  {
   "cell_type": "code",
   "execution_count": 7,
   "metadata": {},
   "outputs": [],
   "source": [
    "# find the frequency of all words in the Commercial category\n",
    "Commercial = get_category(english_tweets, 'Commercial')\n",
    "Commercial_dict = get_freq(Commercial, blank_dict)"
   ]
  },
  {
   "cell_type": "code",
   "execution_count": 8,
   "metadata": {},
   "outputs": [],
   "source": [
    "# find the frequency of all words in the HashtagGamer category\n",
    "HashtagGamer = get_category(english_tweets, 'HashtagGamer')\n",
    "HashtagGamer_dict = get_freq(HashtagGamer, blank_dict)"
   ]
  },
  {
   "cell_type": "code",
   "execution_count": 9,
   "metadata": {},
   "outputs": [],
   "source": [
    "# find the frequency of all words in the LeftTroll category\n",
    "LeftTroll = get_category(english_tweets, 'LeftTroll')\n",
    "LeftTroll_dict = get_freq(LeftTroll, blank_dict)"
   ]
  },
  {
   "cell_type": "code",
   "execution_count": 10,
   "metadata": {},
   "outputs": [],
   "source": [
    "# find the frequency of all words in the NewsFeed category\n",
    "NewsFeed = get_category(english_tweets, 'NewsFeed')\n",
    "NewsFeed_dict = get_freq(NewsFeed, blank_dict)"
   ]
  },
  {
   "cell_type": "code",
   "execution_count": 11,
   "metadata": {},
   "outputs": [],
   "source": [
    "# find the frequency of all words in the RightTroll category\n",
    "RightTroll = get_category(english_tweets, 'RightTroll')\n",
    "RightTroll_dict = get_freq(RightTroll, blank_dict)"
   ]
  },
  {
   "cell_type": "code",
   "execution_count": 12,
   "metadata": {
    "collapsed": true
   },
   "outputs": [],
   "source": [
    "# sum up the toal frequency of all words in all tweets\n",
    "master_dict = blank_dict\n",
    "for key in master_dict:\n",
    "    master_dict[key] = Unknown_dict[key] + Fearmonger_dict[key] + NonEnglish_dict[key] + Commercial_dict[key] + HashtagGamer_dict[key] + LeftTroll_dict[key] + NewsFeed_dict[key] + RightTroll_dict[key]"
   ]
  },
  {
   "cell_type": "code",
   "execution_count": 13,
   "metadata": {
    "collapsed": true
   },
   "outputs": [],
   "source": [
    "# sum up the total number of words in each category and overall\n",
    "#all_total = get_total(All_Tweets)\n",
    "NewsFeed_total = get_total(NewsFeed_dict)\n",
    "RightTroll_total = get_total(RightTroll_dict)\n",
    "Commercial_total = get_total(Commercial_dict)\n",
    "NonEnglish_total = get_total(NonEnglish_dict)\n",
    "Fearmonger_total = get_total(Fearmonger_dict)\n",
    "HashtagGamer_total = get_total(HashtagGamer_dict)\n",
    "LeftTroll_total = get_total(LeftTroll_dict)\n",
    "Unknown_total = get_total(Unknown_dict)\n",
    "\n",
    "total = NewsFeed_total + RightTroll_total + Commercial_total + NonEnglish_total\n",
    "total = total + Fearmonger_total + HashtagGamer_total + LeftTroll_total + Unknown_total"
   ]
  },
  {
   "cell_type": "code",
   "execution_count": 14,
   "metadata": {},
   "outputs": [],
   "source": [
    "# calculate the proportion of words accounted for by each category\n",
    "NewsFeed_multiplier = get_multiplier(total, NewsFeed_total)\n",
    "RightTroll_multiplier = get_multiplier(total, RightTroll_total)\n",
    "Commercial_multiplier = get_multiplier(total, Commercial_total)\n",
    "NonEnglish_multiplier = get_multiplier(total, NonEnglish_total)\n",
    "Fearmonger_multiplier = get_multiplier(total, Fearmonger_total)\n",
    "HashtagGamer_multiplier = get_multiplier(total, HashtagGamer_total)\n",
    "LeftTroll_multiplier = get_multiplier(total, LeftTroll_total)\n",
    "Unknown_multiplier = get_multiplier(total, Unknown_total)"
   ]
  },
  {
   "cell_type": "code",
   "execution_count": 15,
   "metadata": {},
   "outputs": [],
   "source": [
    "# calculate the uniqueness score for all of the words in each category\n",
    "NewsFeed_scores = get_scores(NewsFeed_dict, master_dict, NewsFeed_multiplier)\n",
    "RightTroll_scores = get_scores(RightTroll_dict, master_dict, RightTroll_multiplier)\n",
    "Commercial_scores = get_scores(Commercial_dict, master_dict, Commercial_multiplier)\n",
    "NonEnglish_scores = get_scores(NonEnglish_dict, master_dict, NonEnglish_multiplier)\n",
    "Fearmonger_scores = get_scores(Fearmonger_dict, master_dict, Fearmonger_multiplier)\n",
    "HashtagGamer_scores = get_scores(HashtagGamer_dict, master_dict, HashtagGamer_multiplier)\n",
    "LeftTroll_scores = get_scores(LeftTroll_dict, master_dict, LeftTroll_multiplier)\n",
    "Unknown_scores = get_scores(Unknown_dict, master_dict, Unknown_multiplier)"
   ]
  },
  {
   "cell_type": "code",
   "execution_count": 16,
   "metadata": {},
   "outputs": [],
   "source": [
    "# save these scores to csv's\n",
    "pd.DataFrame(RightTroll_scores).transpose().to_csv('RightTroll_Scores2a.csv')\n",
    "pd.DataFrame(LeftTroll_scores).transpose().to_csv('LeftTroll_Scores2a.csv')\n",
    "pd.DataFrame(Commercial_scores).transpose().to_csv('Commercial_Scores2a.csv')\n",
    "pd.DataFrame(Fearmonger_scores).transpose().to_csv('Fearmonger_Scores2a.csv')\n",
    "pd.DataFrame(HashtagGamer_scores).transpose().to_csv('HashtagGamer_Scores2a.csv')\n",
    "pd.DataFrame(Unknown_scores).transpose().to_csv('Unknown_Scores2a.csv')\n",
    "pd.DataFrame(NonEnglish_scores).transpose().to_csv('NonEnglish_Scores2a.csv')\n",
    "pd.DataFrame(NewsFeed_scores).transpose().to_csv('NewsFeed_Scores2a.csv')"
   ]
  }
 ],
 "metadata": {
  "kernelspec": {
   "display_name": "Python 3",
   "language": "python",
   "name": "python3"
  },
  "language_info": {
   "codemirror_mode": {
    "name": "ipython",
    "version": 3
   },
   "file_extension": ".py",
   "mimetype": "text/x-python",
   "name": "python",
   "nbconvert_exporter": "python",
   "pygments_lexer": "ipython3",
   "version": "3.6.5"
  }
 },
 "nbformat": 4,
 "nbformat_minor": 2
}
