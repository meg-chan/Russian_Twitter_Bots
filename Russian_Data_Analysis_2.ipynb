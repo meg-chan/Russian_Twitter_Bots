{
 "cells": [
  {
   "cell_type": "code",
   "execution_count": 1,
   "metadata": {},
   "outputs": [],
   "source": [
    "# there's an intermediate step in the R terminal where I pulled out the top 50(?) scoring items from the *_scores_2.csv files\n",
    "\n",
    "import pandas as pd\n",
    "\n",
    "Commercial_top = pd.read_csv(\"../data/Commercial_top.csv\")\n",
    "Fearmonger_top = pd.read_csv(\"../data/Fearmonger_top.csv\")\n",
    "HashtagGamer_top = pd.read_csv(\"../data/HashtagGamer_top.csv\")\n",
    "LeftTroll_top = pd.read_csv(\"../data/LeftTroll_top.csv\")\n",
    "NewsFeed_top = pd.read_csv(\"../data/NewsFeed_top.csv\")\n",
    "NonEnglish_top = pd.read_csv(\"../data/NonEnglish_top.csv\")\n",
    "RightTroll_top = pd.read_csv(\"../data/RightTroll_top.csv\")\n",
    "Unknown_top = pd.read_csv(\"../data/Unknown_top.csv\")"
   ]
  },
  {
   "cell_type": "code",
   "execution_count": 3,
   "metadata": {
    "scrolled": true
   },
   "outputs": [
    {
     "name": "stdout",
     "output_type": "stream",
     "text": [
      "workout\n",
      "exercise\n",
      "weight\n",
      "lose\n",
      "fitness\n",
      "stocks\n",
      "diet\n",
      "loans\n",
      "payday\n",
      "gym\n",
      "24x7\n",
      "fat\n",
      "httpstcoiaeqrdhqpo\n",
      "finance\n",
      "pre\n",
      "loss\n",
      "good\n",
      "need\n",
      "profile】\n",
      "【see\n",
      "s\n",
      "approved\n",
      "httptcosqjlvubhbi\n",
      "online\n",
      "httptco3awz2kwj5k\n",
      "today\n",
      "morning\n",
      "minutes\n",
      "emily\n",
      "go\n",
      "preworkout\n",
      "httptcouvjmw3ybii\n",
      "tomorrow\n",
      "httptcoastirkb3e2\n",
      "httptcoowp51ix4vs\n",
      "httptco3fr1dxakjh\n",
      "ab\n",
      "httptcotqqbk6myee\n",
      "httptcowdvm8zhf9r\n",
      "httptcoiaigyd28p2\n",
      "sore\n",
      "eat\n",
      "stock\n",
      "wanna\n"
     ]
    }
   ],
   "source": [
    "commercial_unique = []\n",
    "for item in Commercial_top['X'].tolist():\n",
    "    if item not in Fearmonger_top['X'].tolist():\n",
    "        if item not in HashtagGamer_top['X'].tolist():\n",
    "            if item not in LeftTroll_top['X'].tolist():\n",
    "                if item not in NewsFeed_top['X'].tolist():\n",
    "                    if item not in NonEnglish_top['X'].tolist():\n",
    "                        if item not in RightTroll_top['X'].tolist():\n",
    "                            if item not in Unknown_top['X'].tolist():\n",
    "                                print (item)\n",
    "                                commercial_unique.append(item)"
   ]
  },
  {
   "cell_type": "code",
   "execution_count": 5,
   "metadata": {
    "scrolled": true
   },
   "outputs": [
    {
     "name": "stdout",
     "output_type": "stream",
     "text": [
      "kochfarms\n",
      "usda\n",
      "foodpoisoning\n",
      "turkey\n",
      "wooow\n",
      "thanksgiving\n",
      "fsis\n",
      "dogthanking\n",
      "imthankfulfor\n",
      "walmart\n",
      "demndebate\n",
      "omg\n",
      "poisoned\n",
      "ny\n",
      "newyork\n",
      "fail\n",
      "demdebate\n",
      "wyndham\n",
      "turkeyaggressor\n",
      "ashley\n",
      "madison\n",
      "kochs\n",
      "happy\n",
      "fergusonremembers\n",
      "topless\n",
      "toxication\n",
      "arriage\n",
      "uhmm\n",
      "licsenses\n",
      "toxicates\n",
      "bitched\n",
      "drdeancdc\n",
      "httpstcohssve9blt1\n",
      "httpstcoqr0ykj3xyz\n",
      "differnce\n",
      "unmcdrkhan\n",
      "therekochfarms\n",
      "tiger\n",
      "httpstcogrtm9eteq9\n",
      "httpstcoszzqrlbaay\n",
      "koch’s\n",
      "acv\n",
      "tablespoon\n",
      "metroplushealth\n",
      "ajustin\n",
      "meat\n",
      "ramrajumd\n",
      "woods\n",
      "gea\n"
     ]
    }
   ],
   "source": [
    "fearmonger_unique = []\n",
    "for item in Fearmonger_top['X'].tolist():\n",
    "    if item not in Commercial_top['X'].tolist():\n",
    "        if item not in HashtagGamer_top['X'].tolist():\n",
    "            if item not in LeftTroll_top['X'].tolist():\n",
    "                if item not in NewsFeed_top['X'].tolist():\n",
    "                    if item not in NonEnglish_top['X'].tolist():\n",
    "                        if item not in RightTroll_top['X'].tolist():\n",
    "                            if item not in Unknown_top['X'].tolist():\n",
    "                                print (item)\n",
    "                                fearmonger_unique.append(item)"
   ]
  },
  {
   "cell_type": "code",
   "execution_count": 6,
   "metadata": {
    "scrolled": true
   },
   "outputs": [
    {
     "name": "stdout",
     "output_type": "stream",
     "text": [
      "midnight\n",
      "todolistbeforechristmas\n",
      "thingsyoucantignore\n",
      "2016in4words\n",
      "mustbebanned\n",
      "igetdepressedwhen\n",
      "ihatepokemongobecause\n",
      "alternativeacronyminterpretations\n",
      "giftideasforpoliticians\n",
      "istartcryingwhen\n",
      "toavoidworki\n",
      "rejecteddebatetopics\n",
      "secondhandgifts\n",
      "donttellanyonebut\n",
      "tofeelbetteri\n",
      "dont\n",
      "hashtag\n",
      "christmasaftermath\n",
      "obamaswishlist\n",
      "myolympicsportwouldbe\n",
      "betteralternativetodebates\n",
      "childrenthinkthat\n",
      "howtoloseyourjob\n",
      "valentinesdayin3words\n",
      "probabletrumpstweets\n",
      "wheniwasyoung\n",
      "ineedalawyerbecause\n",
      "thingsthatshouldbecensored\n",
      "obamanextjob\n",
      "myemmynominationwouldbe\n",
      "itsriskyto\n"
     ]
    }
   ],
   "source": [
    "hashtaggamer_unique = [] \n",
    "for item in HashtagGamer_top['X'].tolist():\n",
    "    if item not in Fearmonger_top['X'].tolist():\n",
    "        if item not in Commercial_top['X'].tolist():\n",
    "            if item not in LeftTroll_top['X'].tolist():\n",
    "                if item not in NewsFeed_top['X'].tolist():\n",
    "                    if item not in NonEnglish_top['X'].tolist():\n",
    "                        if item not in RightTroll_top['X'].tolist():\n",
    "                            if item not in Unknown_top['X'].tolist():\n",
    "                                print (item)\n",
    "                                hashtaggamer_unique.append(item)"
   ]
  },
  {
   "cell_type": "code",
   "execution_count": 7,
   "metadata": {
    "scrolled": true
   },
   "outputs": [
    {
     "name": "stdout",
     "output_type": "stream",
     "text": [
      "black\n",
      "blacklivesmatter\n",
      "by\n",
      "now\n",
      "people\n",
      "nowplaying\n",
      "so\n",
      "white\n",
      "get\n",
      "music\n",
      "but\n",
      "how\n",
      "its\n",
      "out\n",
      "when\n"
     ]
    }
   ],
   "source": [
    "lefttroll_unique = []\n",
    "for item in LeftTroll_top['X'].tolist():\n",
    "    if item not in Fearmonger_top['X'].tolist():\n",
    "        if item not in Commercial_top['X'].tolist():\n",
    "            if item not in HashtagGamer_top['X'].tolist():\n",
    "                if item not in NewsFeed_top['X'].tolist():\n",
    "                    if item not in NonEnglish_top['X'].tolist():\n",
    "                        if item not in RightTroll_top['X'].tolist():\n",
    "                            if item not in Unknown_top['X'].tolist():\n",
    "                                print (item)\n",
    "                                lefttroll_unique.append(item)"
   ]
  },
  {
   "cell_type": "code",
   "execution_count": 8,
   "metadata": {
    "scrolled": true
   },
   "outputs": [
    {
     "name": "stdout",
     "output_type": "stream",
     "text": [
      "news\n",
      "sports\n",
      "politics\n",
      "police\n",
      "local\n",
      "man\n",
      "world\n",
      "after\n",
      "topnews\n",
      "new\n",
      "cleveland\n",
      "says\n",
      "shooting\n",
      "health\n",
      "crash\n",
      "killed\n",
      "county\n",
      "state\n",
      "tech\n",
      "business\n",
      "fire\n",
      "woman\n",
      "san\n",
      "entertainment\n",
      "suspect\n",
      "over\n",
      "city\n",
      "shot\n",
      "miami\n",
      "topvideo\n",
      "crime\n",
      "arrested\n",
      "as\n",
      "charged\n",
      "south\n",
      "dead\n",
      "found\n",
      "car\n",
      "environment\n",
      "dies\n"
     ]
    }
   ],
   "source": [
    "newsfeed_unique = []\n",
    "for item in NewsFeed_top['X'].tolist():\n",
    "    if item not in Fearmonger_top['X'].tolist():\n",
    "        if item not in HashtagGamer_top['X'].tolist():\n",
    "            if item not in LeftTroll_top['X'].tolist():\n",
    "                if item not in Commercial_top['X'].tolist():\n",
    "                    if item not in NonEnglish_top['X'].tolist():\n",
    "                        if item not in RightTroll_top['X'].tolist():\n",
    "                            if item not in Unknown_top['X'].tolist():\n",
    "                                print (item)\n",
    "                                newsfeed_unique.append(item)"
   ]
  },
  {
   "cell_type": "code",
   "execution_count": 9,
   "metadata": {
    "scrolled": true
   },
   "outputs": [
    {
     "name": "stdout",
     "output_type": "stream",
     "text": [
      "mariasharapova\n",
      "sugarpova\n",
      "britaininout\n",
      "goodbyeuk\n",
      "arte\n",
      "euref\n",
      "dongle\n",
      "remainineu\n",
      "googlestreetart\n",
      "opedge\n",
      "streetart\n",
      "der\n",
      "russian\n",
      "юморrusimprovisation\n",
      "art\n",
      "russia\n",
      "wirliebentrump\n",
      "lewishowes\n",
      "brexitornot\n",
      "syria\n",
      "blackrose\n",
      "rochebros\n",
      "в\n",
      "с\n",
      "wttsmashhits\n",
      "donbass\n",
      "photos\n",
      "hamburg\n",
      "sweetfactoryco\n",
      "ist\n",
      "ox\n",
      "lokenkristanna\n",
      "nevskyalexandr\n",
      "moscow\n",
      "merkelmussbleiben\n",
      "на\n",
      "aleppo\n",
      "under30summit\n",
      "stopptterror\n",
      "und\n",
      "headtennis\n",
      "tabularasamb\n",
      "posted\n"
     ]
    }
   ],
   "source": [
    "nonenglish_unique = []\n",
    "for item in NonEnglish_top['X'].tolist():\n",
    "    if item not in Fearmonger_top['X'].tolist():\n",
    "        if item not in HashtagGamer_top['X'].tolist():\n",
    "            if item not in LeftTroll_top['X'].tolist():\n",
    "                if item not in NewsFeed_top['X'].tolist():\n",
    "                    if item not in Commercial_top['X'].tolist():\n",
    "                        if item not in RightTroll_top['X'].tolist():\n",
    "                            if item not in Unknown_top['X'].tolist():\n",
    "                                print (item)\n",
    "                                nonenglish_unique.append(item)"
   ]
  },
  {
   "cell_type": "code",
   "execution_count": 10,
   "metadata": {
    "scrolled": true
   },
   "outputs": [
    {
     "name": "stdout",
     "output_type": "stream",
     "text": [
      "rt\n",
      "trump\n",
      "breaking\n",
      "obama\n",
      "hillary\n",
      "just\n",
      "…\n",
      "our\n",
      "maga\n",
      "will\n",
      "realdonaldtrump\n",
      "who\n",
      "tcot\n",
      "video\n",
      "pjnet\n",
      "cnn\n",
      "has\n",
      "president\n",
      "potus\n"
     ]
    }
   ],
   "source": [
    "righttroll_unique = []\n",
    "for item in RightTroll_top['X'].tolist():\n",
    "    if item not in Fearmonger_top['X'].tolist():\n",
    "        if item not in HashtagGamer_top['X'].tolist():\n",
    "            if item not in LeftTroll_top['X'].tolist():\n",
    "                if item not in NewsFeed_top['X'].tolist():\n",
    "                    if item not in NonEnglish_top['X'].tolist():\n",
    "                        if item not in Commercial_top['X'].tolist():\n",
    "                            if item not in Unknown_top['X'].tolist():\n",
    "                                print (item)\n",
    "                                righttroll_unique.append(item)"
   ]
  },
  {
   "cell_type": "code",
   "execution_count": 11,
   "metadata": {
    "scrolled": true
   },
   "outputs": [
    {
     "name": "stdout",
     "output_type": "stream",
     "text": [
      "landy\n",
      "heymanhustle\n",
      "limousine\n",
      "limo\n",
      "friendswood\n",
      "httptcoectbjumquv\n",
      "httptcoit3iypb6sw\n",
      "httptcokvuwmlhscr\n",
      "revine\n",
      "wademartinsp\n",
      "makeamoviehillary\n",
      "pamela\n",
      "chernobyl2015\n",
      "typography\n",
      "murica\n",
      "arydalton\n",
      "graphicdesign\n",
      "httpstcoq7rjldevli\n",
      "httptconbqrmz1t0h\n",
      "hustlebootytemptats\n",
      "nikon\n",
      "digitalart\n",
      "herring1967\n",
      "npp\n",
      "brocklesnar\n",
      "httpstcowiox7pugmw\n",
      "httptcopgyiaai0cf\n",
      "podcast\n",
      "services\n",
      "pitchsmash\n",
      "conroe\n",
      "ronc99\n",
      "japitter\n",
      "heyman\n",
      "httpstcohsnlmcpqte\n",
      "pubnamesformodernlife\n",
      "starwarsbattlefront\n",
      "richdoll54\n",
      "jessiejensenx\n",
      "liberalphenom\n",
      "kemet2000\n",
      "teddyshouse2ii\n",
      "zaporozhia\n"
     ]
    }
   ],
   "source": [
    "unknown_unique = []\n",
    "for item in Unknown_top['X'].tolist():\n",
    "    if item not in Fearmonger_top['X'].tolist():\n",
    "        if item not in HashtagGamer_top['X'].tolist():\n",
    "            if item not in LeftTroll_top['X'].tolist():\n",
    "                if item not in NewsFeed_top['X'].tolist():\n",
    "                    if item not in NonEnglish_top['X'].tolist():\n",
    "                        if item not in RightTroll_top['X'].tolist():\n",
    "                            if item not in Commercial_top['X'].tolist():\n",
    "                                print (item)\n",
    "                                unknown_unique.append(item)"
   ]
  },
  {
   "cell_type": "code",
   "execution_count": 14,
   "metadata": {},
   "outputs": [],
   "source": [
    "pd.DataFrame(righttroll_unique).to_csv(\"../data/RightTroll_unique.csv\")\n",
    "pd.DataFrame(commercial_unique).to_csv(\"../data/Commercial_unique.csv\")\n",
    "pd.DataFrame(fearmonger_unique).to_csv(\"../data/Fearmonger_unique.csv\")\n",
    "pd.DataFrame(lefttroll_unique).to_csv(\"../data/LeftTroll_unique.csv\")\n",
    "pd.DataFrame(hashtaggamer_unique).to_csv(\"../data/HashtagGamer_unique.csv\")\n",
    "pd.DataFrame(nonenglish_unique).to_csv(\"../data/NonEnglish_unique.csv\")\n",
    "pd.DataFrame(newsfeed_unique).to_csv(\"../data/NewsFeed_unique.csv\")\n",
    "pd.DataFrame(unknown_unique).to_csv(\"../data/Unknown_unique.csv\")"
   ]
  }
 ],
 "metadata": {
  "kernelspec": {
   "display_name": "Python 3",
   "language": "python",
   "name": "python3"
  },
  "language_info": {
   "codemirror_mode": {
    "name": "ipython",
    "version": 3
   },
   "file_extension": ".py",
   "mimetype": "text/x-python",
   "name": "python",
   "nbconvert_exporter": "python",
   "pygments_lexer": "ipython3",
   "version": "3.6.5"
  }
 },
 "nbformat": 4,
 "nbformat_minor": 2
}
